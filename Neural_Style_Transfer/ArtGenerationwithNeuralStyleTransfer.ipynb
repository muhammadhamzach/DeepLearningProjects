{
 "cells": [
  {
   "cell_type": "markdown",
   "metadata": {
    "colab_type": "text",
    "id": "view-in-github"
   },
   "source": [
    "<a href=\"https://colab.research.google.com/github/muhammadhamzach/Neural_Style_Transfer/blob/master/ArtGenerationwithNeuralStyleTransfer_Collab.ipynb\" target=\"_parent\"><img src=\"https://colab.research.google.com/assets/colab-badge.svg\" alt=\"Open In Colab\"/></a>"
   ]
  },
  {
   "cell_type": "markdown",
   "metadata": {
    "colab_type": "text",
    "id": "irRothXn-hrb"
   },
   "source": [
    "# Deep Learning & Art: Neural Style Transfer\n",
    "\n",
    "Welcome to the second assignment of this week. In this assignment, you will learn about Neural Style Transfer. This algorithm was created by Gatys et al. (2015) (https://arxiv.org/abs/1508.06576). \n",
    "\n",
    "Here we will\n",
    "- Implement the neural style transfer algorithm \n",
    "- Generate novel artistic images using your algorithm \n"
   ]
  },
  {
   "cell_type": "code",
   "execution_count": 0,
   "metadata": {
    "colab": {},
    "colab_type": "code",
    "id": "8MKP7h44n_jI"
   },
   "outputs": [],
   "source": [
    "import os\n",
    "import sys\n",
    "import scipy.io\n",
    "import scipy.misc\n",
    "import matplotlib.pyplot as plt\n",
    "from matplotlib.pyplot import imshow\n",
    "from PIL import Image\n",
    "import numpy as np\n",
    "import tensorflow as tf\n",
    "import imageio\n",
    "tf.compat.v1.disable_eager_execution()\n",
    "\n",
    "class CONFIG:\n",
    "    COLOR_CHANNELS = 3\n",
    "    NOISE_RATIO = 0.6\n",
    "    MEANS = np.array([123.68, 116.779, 103.939]).reshape((1,1,1,3)) "
   ]
  },
  {
   "cell_type": "markdown",
   "metadata": {
    "colab_type": "text",
    "id": "mmwYTANeEIAc"
   },
   "source": [
    "The vgg_model is the imagenet.vgg-verydeep-19.mat downloaded from http://www.vlfeat.org/matconvnet/models/imagenet-vgg-verydeep-19.mat.\n",
    "The following function loads this model to be used later"
   ]
  },
  {
   "cell_type": "code",
   "execution_count": 0,
   "metadata": {
    "colab": {},
    "colab_type": "code",
    "id": "iIokLqowpJxf"
   },
   "outputs": [],
   "source": [
    "def load_vgg_model(path, content_image_path):\n",
    "    \"\"\"\n",
    "    Returns a model for the purpose of 'painting' the picture.\n",
    "    Takes only the convolution layer weights and wrap using the TensorFlow\n",
    "    Conv2d, Relu and AveragePooling layer. VGG actually uses maxpool but\n",
    "    the paper indicates that using AveragePooling yields better results.\n",
    "    The last few fully connected layers are not used.\n",
    "    Here is the detailed configuration of the VGG model:\n",
    "        0 is conv1_1 (3, 3, 3, 64)\n",
    "        1 is relu\n",
    "        2 is conv1_2 (3, 3, 64, 64)\n",
    "        3 is relu    \n",
    "        4 is maxpool\n",
    "        5 is conv2_1 (3, 3, 64, 128)\n",
    "        6 is relu\n",
    "        7 is conv2_2 (3, 3, 128, 128)\n",
    "        8 is relu\n",
    "        9 is maxpool\n",
    "        10 is conv3_1 (3, 3, 128, 256)\n",
    "        11 is relu\n",
    "        12 is conv3_2 (3, 3, 256, 256)\n",
    "        13 is relu\n",
    "        14 is conv3_3 (3, 3, 256, 256)\n",
    "        15 is relu\n",
    "        16 is conv3_4 (3, 3, 256, 256)\n",
    "        17 is relu\n",
    "        18 is maxpool\n",
    "        19 is conv4_1 (3, 3, 256, 512)\n",
    "        20 is relu\n",
    "        21 is conv4_2 (3, 3, 512, 512)\n",
    "        22 is relu\n",
    "        23 is conv4_3 (3, 3, 512, 512)\n",
    "        24 is relu\n",
    "        25 is conv4_4 (3, 3, 512, 512)\n",
    "        26 is relu\n",
    "        27 is maxpool\n",
    "        28 is conv5_1 (3, 3, 512, 512)\n",
    "        29 is relu\n",
    "        30 is conv5_2 (3, 3, 512, 512)\n",
    "        31 is relu\n",
    "        32 is conv5_3 (3, 3, 512, 512)\n",
    "        33 is relu\n",
    "        34 is conv5_4 (3, 3, 512, 512)\n",
    "        35 is relu\n",
    "        36 is maxpool\n",
    "        37 is fullyconnected (7, 7, 512, 4096)\n",
    "        38 is relu\n",
    "        39 is fullyconnected (1, 1, 4096, 4096)\n",
    "        40 is relu\n",
    "        41 is fullyconnected (1, 1, 4096, 1000)\n",
    "        42 is softmax\n",
    "    \"\"\"\n",
    "    \n",
    "    vgg = scipy.io.loadmat(path)\n",
    "\n",
    "    vgg_layers = vgg['layers']\n",
    "    \n",
    "    def _weights(layer, expected_layer_name):\n",
    "        \"\"\"\n",
    "        Return the weights and bias from the VGG model for a given layer.\n",
    "        \"\"\"\n",
    "        wb = vgg_layers[0][layer][0][0][2]\n",
    "        W = wb[0][0]\n",
    "        b = wb[0][1]\n",
    "        layer_name = vgg_layers[0][layer][0][0][0][0]\n",
    "        assert layer_name == expected_layer_name\n",
    "        return W, b\n",
    "\n",
    "\n",
    "    def _relu(conv2d_layer):\n",
    "        \"\"\"\n",
    "        Return the RELU function wrapped over a TensorFlow layer. Expects a\n",
    "        Conv2d layer input.\n",
    "        \"\"\"\n",
    "        return tf.nn.relu(conv2d_layer)\n",
    "\n",
    "    def _conv2d(prev_layer, layer, layer_name):\n",
    "        \"\"\"\n",
    "        Return the Conv2D layer using the weights, biases from the VGG\n",
    "        model at 'layer'.\n",
    "        \"\"\"\n",
    "        W, b = _weights(layer, layer_name)\n",
    "        W = tf.constant(W)\n",
    "        b = tf.constant(np.reshape(b, np.size(b)))\n",
    "        return tf.compat.v1.nn.conv2d(prev_layer, filter=W, strides=[1, 1, 1, 1], padding='SAME') + b\n",
    "\n",
    "    def _conv2d_relu(prev_layer, layer, layer_name):\n",
    "        \"\"\"\n",
    "        Return the Conv2D + RELU layer using the weights, biases from the VGG\n",
    "        model at 'layer'.\n",
    "        \"\"\"\n",
    "        return _relu(_conv2d(prev_layer, layer, layer_name))\n",
    "\n",
    "    def _avgpool(prev_layer):\n",
    "        \"\"\"\n",
    "        Return the AveragePooling layer.\n",
    "        \"\"\"\n",
    "        return tf.nn.avg_pool(prev_layer, ksize=[1, 2, 2, 1], strides=[1, 2, 2, 1], padding='SAME')\n",
    "\n",
    "    # Constructs the graph model.\n",
    "    graph = {}\n",
    "    con_img = Image.open(content_image_path) \n",
    "    graph['input']   = tf.Variable(np.zeros((1, con_img.size[1], con_img.size[0], CONFIG.COLOR_CHANNELS)), dtype = 'float32')\n",
    "    graph['conv1_1']  = _conv2d_relu(graph['input'], 0, 'conv1_1')\n",
    "    graph['conv1_2']  = _conv2d_relu(graph['conv1_1'], 2, 'conv1_2')\n",
    "    graph['avgpool1'] = _avgpool(graph['conv1_2'])\n",
    "    graph['conv2_1']  = _conv2d_relu(graph['avgpool1'], 5, 'conv2_1')\n",
    "    graph['conv2_2']  = _conv2d_relu(graph['conv2_1'], 7, 'conv2_2')\n",
    "    graph['avgpool2'] = _avgpool(graph['conv2_2'])\n",
    "    graph['conv3_1']  = _conv2d_relu(graph['avgpool2'], 10, 'conv3_1')\n",
    "    graph['conv3_2']  = _conv2d_relu(graph['conv3_1'], 12, 'conv3_2')\n",
    "    graph['conv3_3']  = _conv2d_relu(graph['conv3_2'], 14, 'conv3_3')\n",
    "    graph['conv3_4']  = _conv2d_relu(graph['conv3_3'], 16, 'conv3_4')\n",
    "    graph['avgpool3'] = _avgpool(graph['conv3_4'])\n",
    "    graph['conv4_1']  = _conv2d_relu(graph['avgpool3'], 19, 'conv4_1')\n",
    "    graph['conv4_2']  = _conv2d_relu(graph['conv4_1'], 21, 'conv4_2')\n",
    "    graph['conv4_3']  = _conv2d_relu(graph['conv4_2'], 23, 'conv4_3')\n",
    "    graph['conv4_4']  = _conv2d_relu(graph['conv4_3'], 25, 'conv4_4')\n",
    "    graph['avgpool4'] = _avgpool(graph['conv4_4'])\n",
    "    graph['conv5_1']  = _conv2d_relu(graph['avgpool4'], 28, 'conv5_1')\n",
    "    graph['conv5_2']  = _conv2d_relu(graph['conv5_1'], 30, 'conv5_2')\n",
    "    graph['conv5_3']  = _conv2d_relu(graph['conv5_2'], 32, 'conv5_3')\n",
    "    graph['conv5_4']  = _conv2d_relu(graph['conv5_3'], 34, 'conv5_4')\n",
    "    graph['avgpool5'] = _avgpool(graph['conv5_4'])\n",
    "    \n",
    "    return graph"
   ]
  },
  {
   "cell_type": "markdown",
   "metadata": {
    "colab_type": "text",
    "id": "uRx5E9fxEeP-"
   },
   "source": [
    "Sometimes the content file and the style file are of different dimensions. This function will resize the style image so to match that of the content image so it can later be processed"
   ]
  },
  {
   "cell_type": "code",
   "execution_count": 0,
   "metadata": {
    "colab": {},
    "colab_type": "code",
    "id": "LZD5rLDDDKeO"
   },
   "outputs": [],
   "source": [
    "def resizing(content_image_path, style_image_path):\n",
    "    con_img = Image.open(content_image_path) \n",
    "    sty_img = Image.open(style_image_path) \n",
    "    sty_img = sty_img.resize((con_img.size[0], con_img.size[1]), Image.ANTIALIAS)\n",
    "    sty_img.save('resized_style_image.png')"
   ]
  },
  {
   "cell_type": "markdown",
   "metadata": {
    "colab_type": "text",
    "id": "CV1IU1M1Fiw_"
   },
   "source": [
    "The shape of content/style image could be anything but in order to be an input to VGG model, we have to reshape it accordingly"
   ]
  },
  {
   "cell_type": "code",
   "execution_count": 0,
   "metadata": {
    "colab": {},
    "colab_type": "code",
    "id": "AeZL0vgtqYFn"
   },
   "outputs": [],
   "source": [
    "def reshape_and_normalize_image(image):\n",
    "    \"\"\"\n",
    "    Reshape and normalize the input image (content or style)\n",
    "    \"\"\"\n",
    "    # Reshape image to mach expected input of VGG16\n",
    "    image = np.reshape(image, ((1,) + image.shape))\n",
    "    # Substract the mean to match the expected input of VGG16\n",
    "    image = image - CONFIG.MEANS\n",
    "    \n",
    "    return image"
   ]
  },
  {
   "cell_type": "markdown",
   "metadata": {
    "colab_type": "text",
    "id": "N9fBHnLaFYok"
   },
   "source": [
    "The following funcion saves the image file made to a path as provided by the user"
   ]
  },
  {
   "cell_type": "code",
   "execution_count": 0,
   "metadata": {
    "colab": {},
    "colab_type": "code",
    "id": "Y5BCPEfOqc7g"
   },
   "outputs": [],
   "source": [
    "def save_image(path, image):\n",
    "    \n",
    "    # Un-normalize the image so that it looks good\n",
    "    image = image + CONFIG.MEANS\n",
    "    \n",
    "    # Clip and Save the image\n",
    "    image = np.clip(image[0], 0, 255).astype('uint8')\n",
    "    imageio.imwrite(path, image)"
   ]
  },
  {
   "cell_type": "markdown",
   "metadata": {
    "colab_type": "text",
    "id": "3kgsyjxUFtHz"
   },
   "source": [
    "The first image made is a random noisy image. This functions creates that image. This image will be preprocessed later to become the desire output"
   ]
  },
  {
   "cell_type": "code",
   "execution_count": 0,
   "metadata": {
    "colab": {},
    "colab_type": "code",
    "id": "yJkDIDX9qnuR"
   },
   "outputs": [],
   "source": [
    "def generate_noise_image(content_image, noise_ratio = CONFIG.NOISE_RATIO):\n",
    "    \"\"\"\n",
    "    Generates a noisy image by adding random noise to the content_image\n",
    "    \"\"\"\n",
    "    # Generate a random noise_image\n",
    "    noise_image = np.random.uniform(-20, 20, (1, content_image.shape[1], content_image.shape[2], content_image.shape[3])).astype('float32')\n",
    "    # Set the input_image to be a weighted average of the content_image and a noise_image\n",
    "    input_image = noise_image * noise_ratio + content_image * (1 - noise_ratio)\n",
    "    \n",
    "    return input_image"
   ]
  },
  {
   "cell_type": "markdown",
   "metadata": {
    "colab_type": "text",
    "id": "6JKe_uEdE4Im"
   },
   "source": [
    "\n",
    "** How do you ensure the generated image G matches the content of the image C?**\n",
    "\n",
    "As we know, (shallower) layers of a ConvNet tend to detect lower-level features such as edges and simple textures, and the later (deeper) layers tend to detect higher-level features such as more complex textures as well as object classes. \n",
    "\n",
    "We would like the \"generated\" image G to have similar content as the input image C. Suppose you have chosen some layer's activations to represent the content of an image. In practice, you'll get the most visually pleasing results if you choose a layer in the middle of the network--neither too shallow nor too deep. (After you have finished this exercise, feel free to come back and experiment with using different layers, to see how the results vary.)\n",
    "\n",
    "So, suppose you have picked one particular hidden layer to use. Now, set the image C as the input to the pretrained VGG network, and run forward propagation. Let $a^{(C)}$ be the hidden layer activations in the layer you had chosen. (In lecture, we had written this as $a^{[l](C)}$, but here we'll drop the superscript $[l]$ to simplify the notation.) This will be a $n_H \\times n_W \\times n_C$ tensor. Repeat this process with the image G: Set G as the input, and run forward progation. Let $$a^{(G)}$$ be the corresponding hidden layer activation. We will define as the content cost function as:\n",
    "\n",
    "$$J_{content}(C,G) =  \\frac{1}{4 \\times n_H \\times n_W \\times n_C}\\sum _{ \\text{all entries}} (a^{(C)} - a^{(G)})^2\\tag{1} $$\n",
    "\n",
    "Here, $n_H, n_W$ and $n_C$ are the height, width and number of channels of the hidden layer you have chosen, and appear in a normalization term in the cost. For clarity, note that $a^{(C)}$ and $a^{(G)}$ are the volumes corresponding to a hidden layer's activations. In order to compute the cost $J_{content}(C,G)$, it might also be convenient to unroll these 3D volumes into a 2D matrix, as shown below. (Technically this unrolling step isn't needed to compute $J_{content}$, but it will be good practice for when you do need to carry out a similar operation later for computing the style const $J_{style}$.)\n"
   ]
  },
  {
   "cell_type": "code",
   "execution_count": 0,
   "metadata": {
    "colab": {},
    "colab_type": "code",
    "id": "OKFUU_opqtx3"
   },
   "outputs": [],
   "source": [
    "def compute_content_cost(a_C, a_G):\n",
    "    \"\"\"\n",
    "    Computes the content cost\n",
    "    \n",
    "    Arguments:\n",
    "    a_C -- tensor of dimension (1, n_H, n_W, n_C), hidden layer activations representing content of the image C \n",
    "    a_G -- tensor of dimension (1, n_H, n_W, n_C), hidden layer activations representing content of the image G\n",
    "    \n",
    "    Returns: \n",
    "    J_content -- scalar that you compute using equation 1 above.\n",
    "    \"\"\"\n",
    "    \n",
    "    # Retrieve dimensions from a_G \n",
    "    m, n_H, n_W, n_C = a_G.get_shape().as_list()\n",
    "    \n",
    "    # Reshape a_C and a_G \n",
    "    a_C_unrolled = tf.reshape(a_C, shape = [m, n_H*n_W, n_C])\n",
    "    a_G_unrolled = tf.reshape(a_G, shape = [m, n_H*n_W, n_C])\n",
    "    \n",
    "    # compute the cost with tensorflow\n",
    "    J_content = (1/(4*n_H*n_W*n_C))*tf.reduce_sum(tf.square(tf.subtract(a_C_unrolled, a_G_unrolled)))\n",
    "    \n",
    "    return J_content"
   ]
  },
  {
   "cell_type": "markdown",
   "metadata": {
    "colab_type": "text",
    "id": "usmi06gdF_b2"
   },
   "source": [
    "The style matrix is also called a \"Gram matrix.\" In linear algebra, the Gram matrix G of a set of vectors $(v_{1},\\dots ,v_{n})$ is the matrix of dot products, whose entries are ${\\displaystyle G_{ij} = v_{i}^T v_{j} = np.dot(v_{i}, v_{j})  }$. In other words, $G_{ij}$ compares how similar $v_i$ is to $v_j$: If they are highly similar, you would expect them to have a large dot product, and thus for $G_{ij}$ to be large. \n",
    "\n",
    "Note that there is an unfortunate collision in the variable names used here. We are following common terminology used in the literature, but $G$ is used to denote the Style matrix (or Gram matrix) as well as to denote the generated image $G$. We will try to make sure which $G$ we are referring to is always clear from the context. \n",
    "\n",
    "In NST, you can compute the Style matrix by multiplying the \"unrolled\" filter matrix with their transpose:\n",
    "\n",
    "The result is a matrix of dimension $(n_C,n_C)$ where $n_C$ is the number of filters. The value $G_{ij}$ measures how similar the activations of filter $i$ are to the activations of filter $j$. \n",
    "\n",
    "One important part of the gram matrix is that the diagonal elements such as $G_{ii}$ also measures how active filter $i$ is. For example, suppose filter $i$ is detecting vertical textures in the image. Then $G_{ii}$ measures how common  vertical textures are in the image as a whole: If $G_{ii}$ is large, this means that the image has a lot of vertical texture. \n",
    "\n",
    "By capturing the prevalence of different types of features ($G_{ii}$), as well as how much different features occur together ($G_{ij}$), the Style matrix $G$ measures the style of an image. "
   ]
  },
  {
   "cell_type": "code",
   "execution_count": 0,
   "metadata": {
    "colab": {},
    "colab_type": "code",
    "id": "gNg-7seSqw-m"
   },
   "outputs": [],
   "source": [
    "def gram_matrix(A):\n",
    "    \"\"\"\n",
    "    Argument:\n",
    "    A -- matrix of shape (n_C, n_H*n_W)\n",
    "    Returns:\n",
    "    GA -- Gram matrix of A, of shape (n_C, n_C)\n",
    "    \"\"\"\n",
    "\n",
    "    GA = tf.matmul(A,A, transpose_b = True)\n",
    "    \n",
    "    return GA"
   ]
  },
  {
   "cell_type": "markdown",
   "metadata": {
    "colab_type": "text",
    "id": "HN2q11RaGNbA"
   },
   "source": [
    "After generating the Style matrix (Gram matrix), your goal will be to minimize the distance between the Gram matrix of the \"style\" image S and that of the \"generated\" image G. For now, we are using only a single hidden layer $a^{[l]}$, and the corresponding style cost for this layer is defined as: \n",
    "\n",
    "$$J_{style}^{[l]}(S,G) = \\frac{1}{4 \\times {n_C}^2 \\times (n_H \\times n_W)^2} \\sum _{i=1}^{n_C}\\sum_{j=1}^{n_C}(G^{(S)}_{ij} - G^{(G)}_{ij})^2\\tag{2} $$\n",
    "\n",
    "where $G^{(S)}$ and $G^{(G)}$ are respectively the Gram matrices of the \"style\" image and the \"generated\" image, computed using the hidden layer activations for a particular hidden layer in the network.  \n"
   ]
  },
  {
   "cell_type": "code",
   "execution_count": 0,
   "metadata": {
    "colab": {},
    "colab_type": "code",
    "id": "e2c9B18IqzOA"
   },
   "outputs": [],
   "source": [
    "def compute_layer_style_cost(a_S, a_G):\n",
    "    \"\"\"\n",
    "    Arguments:\n",
    "    a_S -- tensor of dimension (1, n_H, n_W, n_C), hidden layer activations representing style of the image S \n",
    "    a_G -- tensor of dimension (1, n_H, n_W, n_C), hidden layer activations representing style of the image G\n",
    "    \n",
    "    Returns: \n",
    "    J_style_layer -- tensor representing a scalar value, style cost defined above by equation (2)\n",
    "    \"\"\"\n",
    "    # Retrieve dimensions from a_G\n",
    "    _, n_H, n_W, n_C = a_G.get_shape().as_list()\n",
    "    \n",
    "    # Reshape the images to have them of shape (n_C, n_H*n_W)\n",
    "    a_S = tf.reshape(a_S, [n_H*n_W, n_C])\n",
    "    a_G = tf.reshape(a_G, [n_H*n_W, n_C])\n",
    "\n",
    "    # Computing gram_matrices for both images S and G\n",
    "    GS = gram_matrix(tf.transpose(a_S))\n",
    "    GG = gram_matrix(tf.transpose(a_G))\n",
    "\n",
    "    # Computing the loss\n",
    "    J_style_layer = (1/(2*n_H*n_W*n_C)**2)*tf.reduce_sum(tf.square(tf.subtract(GS, GG)))\n",
    "    \n",
    "    return J_style_layer"
   ]
  },
  {
   "cell_type": "markdown",
   "metadata": {
    "colab_type": "text",
    "id": "cosCX_o_GZ1f"
   },
   "source": [
    "You can combine the style costs for different layers as follows:\n",
    "\n",
    "$$J_{style}(S,G) = \\sum_{l} \\lambda^{[l]} J^{[l]}_{style}(S,G)$$\n",
    "\n",
    "where the values for $\\lambda^{[l]}$ are given in `STYLE_LAYERS`. \n"
   ]
  },
  {
   "cell_type": "code",
   "execution_count": 0,
   "metadata": {
    "colab": {},
    "colab_type": "code",
    "id": "mlktv8lHq-LZ"
   },
   "outputs": [],
   "source": [
    "def compute_style_cost(sess, model, STYLE_LAYERS):\n",
    "    \"\"\"\n",
    "    Computes the overall style cost from several chosen layers\n",
    "    \n",
    "    Arguments:\n",
    "    model -- our tensorflow model\n",
    "    STYLE_LAYERS -- A python list containing:\n",
    "                        - the names of the layers we would like to extract style from\n",
    "                        - a coefficient for each of them\n",
    "    \n",
    "    Returns: \n",
    "    J_style -- tensor representing a scalar value, style cost defined above by equation (2)\n",
    "    \"\"\"\n",
    "    \n",
    "    # initialize the overall style cost\n",
    "    J_style = 0\n",
    "\n",
    "    for layer_name, coeff in STYLE_LAYERS:\n",
    "\n",
    "        # Select the output tensor of the currently selected layer\n",
    "        out = model[layer_name]\n",
    "\n",
    "        # Set a_S to be the hidden layer activation from the layer we have selected, by running the session on out\n",
    "        a_S = sess.run(out)\n",
    "\n",
    "        # Set a_G to be the hidden layer activation from same layer. Here, a_G references model[layer_name] \n",
    "        # and isn't evaluated yet. Later in the code, we'll assign the image G as the model input, so that\n",
    "        # when we run the session, this will be the activations drawn from the appropriate layer, with G as input.\n",
    "        a_G = out\n",
    "        \n",
    "        # Compute style_cost for the current layer\n",
    "        J_style_layer = compute_layer_style_cost(a_S, a_G)\n",
    "\n",
    "        # Add coeff * J_style_layer of this layer to overall style cost\n",
    "        J_style += coeff * J_style_layer\n",
    "\n",
    "    return J_style"
   ]
  },
  {
   "cell_type": "markdown",
   "metadata": {
    "colab_type": "text",
    "id": "EbGm5vZtGeuz"
   },
   "source": [
    "Finally, let's create a cost function that minimizes both the style and the content cost. The formula is: \n",
    "\n",
    "$$J(G) = \\alpha J_{content}(C,G) + \\beta J_{style}(S,G)$$\n"
   ]
  },
  {
   "cell_type": "code",
   "execution_count": 0,
   "metadata": {
    "colab": {},
    "colab_type": "code",
    "id": "svzJvc-Fsw-G"
   },
   "outputs": [],
   "source": [
    "def total_cost(J_content, J_style, alpha = 10, beta = 40):\n",
    "    \"\"\"\n",
    "    Computes the total cost function\n",
    "    \n",
    "    Arguments:\n",
    "    J_content -- content cost coded above\n",
    "    J_style -- style cost coded above\n",
    "    alpha -- hyperparameter weighting the importance of the content cost\n",
    "    beta -- hyperparameter weighting the importance of the style cost\n",
    "    Returns:\n",
    "    J -- total cost as defined by the formula above.\n",
    "    \"\"\"\n",
    "\n",
    "    J = alpha*J_content + beta*J_style\n",
    "    \n",
    "    return J"
   ]
  },
  {
   "cell_type": "markdown",
   "metadata": {
    "colab_type": "text",
    "id": "IdJ9BbzPG0vn"
   },
   "source": [
    "The model_nn() function which initializes the variables of the tensorflow graph, assigns the input image (initial generated image) as the input of the VGG16 model and runs the train_step for a large number of steps."
   ]
  },
  {
   "cell_type": "code",
   "execution_count": 0,
   "metadata": {
    "colab": {},
    "colab_type": "code",
    "id": "qV9IdDTVrDdX"
   },
   "outputs": [],
   "source": [
    "def model_nn(sess, input_image, model, train_step, J, J_content, J_style, output_image_path=\"output/\", num_iterations = 200):\n",
    "    \n",
    "    # Initialize global variables (you need to run the session on the initializer)\n",
    "    sess.run(tf.compat.v1.global_variables_initializer())\n",
    "    \n",
    "    # Run the noisy input image (initial generated image) through the model. Use assign().\n",
    "    model[\"input\"].assign(input_image)\n",
    "    \n",
    "    for i in range(num_iterations):\n",
    "    \n",
    "        # Run the session on the train_step to minimize the total cost\n",
    "        sess.run(train_step)\n",
    "        \n",
    "        # Compute the generated image by running the session on the current model['input']\n",
    "        generated_image = sess.run(model['input'])\n",
    "\n",
    "        # Print every 20 iteration.\n",
    "        if i%20 == 0:\n",
    "            Jt, Jc, Js = sess.run([J, J_content, J_style])\n",
    "            print(\"Iteration \" + str(i) + \" :\")\n",
    "            print(\"total cost = \" + str(Jt))\n",
    "            print(\"content cost = \" + str(Jc))\n",
    "            print(\"style cost = \" + str(Js))\n",
    "            \n",
    "            # save current generated image in the \"/output\" directory\n",
    "            save_image( output_image_path+ str(i) + \".png\", generated_image)\n",
    "    \n",
    "    # save last generated image\n",
    "    save_image(output_image_path + \"generated_image.jpg\", generated_image)\n",
    "    \n",
    "    return generated_image"
   ]
  },
  {
   "cell_type": "markdown",
   "metadata": {
    "colab_type": "text",
    "id": "Ebp3sqFgG6wN"
   },
   "source": [
    "Finally, let's put everything together to implement Neural Style Transfer!\n",
    "\n",
    "\n",
    "Here's what the program will have to do:\n",
    "\n",
    "1. Create an Interactive Session\n",
    "2. Load the content image \n",
    "3. Load the style image\n",
    "4. Randomly initialize the image to be generated \n",
    "5. Load the VGG16 model\n",
    "7. Build the TensorFlow graph:\n",
    "    - Run the content image through the VGG16 model and compute the content cost\n",
    "    - Run the style image through the VGG16 model and compute the style cost\n",
    "    - Compute the total cost\n",
    "    - Define the optimizer and the learning rate\n",
    "8. Initialize the TensorFlow graph and run it for a large number of iterations, updating the generated image at every step."
   ]
  },
  {
   "cell_type": "code",
   "execution_count": 0,
   "metadata": {
    "colab": {},
    "colab_type": "code",
    "id": "6alVTo_DrRxO"
   },
   "outputs": [],
   "source": [
    "def Neural_Style_Image(content_image_path, style_image_path,output_image_path, model_path,num_iterations = 100, alpha = 10, beta = 40, learning_rate=0.02):\n",
    "\n",
    "    tf.compat.v1.reset_default_graph()\n",
    "    sess = tf.compat.v1.InteractiveSession()\n",
    "\n",
    "    resizing(content_image_path, style_image_path)\n",
    "    content_image = imageio.imread(content_image_path)\n",
    "    content_image = reshape_and_normalize_image(content_image)\n",
    "\n",
    "    style_image = imageio.imread(\"resized_style_image.png\")\n",
    "    style_image = reshape_and_normalize_image(style_image)\n",
    "\n",
    "    generated_image = generate_noise_image(content_image)\n",
    "\n",
    "    model = load_vgg_model(model_path +\"imagenet-vgg-verydeep-19.mat\", content_image_path)\n",
    "\n",
    "    sess.run(model['input'].assign(content_image))\n",
    "    out = model['conv4_2']\n",
    "    a_C = sess.run(out)\n",
    "    a_G = out\n",
    "    J_content = compute_content_cost(a_C, a_G)\n",
    "\n",
    "    STYLE_LAYERS = [\n",
    "        ('conv1_1', 0.5),\n",
    "        ('conv2_1', 1.0),\n",
    "        ('conv3_1', 1.5),\n",
    "        ('conv4_1', 3.0),\n",
    "        ('conv5_1', 4.0)]\n",
    "\n",
    "    sess.run(model['input'].assign(style_image))\n",
    "    J_style = compute_style_cost(sess, model, STYLE_LAYERS)\n",
    "\n",
    "    J = total_cost(J_content, J_style, alpha, beta)\n",
    "\n",
    "    optimizer = tf.compat.v1.train.AdamOptimizer(learning_rate)\n",
    "    train_step = optimizer.minimize(J)\n",
    "\n",
    "    \n",
    "    model_nn(sess, generated_image, model, train_step, J, J_content, J_style, output_image_path, num_iterations)"
   ]
  },
  {
   "cell_type": "markdown",
   "metadata": {
    "colab_type": "text",
    "id": "mTsJ7ZOOG-uk"
   },
   "source": [
    "To be used when Google Colab is being used instead of Jupetyr Notebook\n",
    "Because the vgg file is very large, you cant upload it to colab everytime. So its best to use Google Drive. \n",
    "Put the file in drive and then uncomment the following functions and get the imagenet-vgg file in the directory\n"
   ]
  },
  {
   "cell_type": "code",
   "execution_count": 0,
   "metadata": {
    "colab": {},
    "colab_type": "code",
    "id": "-WxHJ5vzroAl"
   },
   "outputs": [],
   "source": [
    "\n",
    "#from google.colab import drive\n",
    "#drive.mount('/content/drive/')\n",
    "#!cp \"/content/drive/My Drive/imagenet-vgg-verydeep-19.mat\" \"imagenet-vgg-verydeep-19.mat\""
   ]
  },
  {
   "cell_type": "markdown",
   "metadata": {
    "colab_type": "text",
    "id": "ifz_8BGFHV0n"
   },
   "source": [
    "# The Main Function\n",
    "This actually runs the whole program.\n",
    "User has to provide the content_image_path/style_image_path either from the local directory if using Jupetyer Labs or has to upload the files on Colab directory and provide the path.\n",
    "User can also modify the hyper-parameters of this code to its need as required."
   ]
  },
  {
   "cell_type": "code",
   "execution_count": 0,
   "metadata": {
    "colab": {
     "base_uri": "https://localhost:8080/",
     "height": 1000
    },
    "colab_type": "code",
    "id": "ocbmLwT0rUtu",
    "outputId": "9a6f8e51-78f7-489f-beea-17b7f99e01d0"
   },
   "outputs": [
    {
     "name": "stdout",
     "output_type": "stream",
     "text": [
      "WARNING:tensorflow:From /usr/local/lib/python3.6/dist-packages/tensorflow/python/ops/resource_variable_ops.py:1666: calling BaseResourceVariable.__init__ (from tensorflow.python.ops.resource_variable_ops) with constraint is deprecated and will be removed in a future version.\n",
      "Instructions for updating:\n",
      "If using Keras pass *_constraint arguments to layers.\n",
      "Iteration 0 :\n",
      "total cost = 540527040.0\n",
      "content cost = 16362.142\n",
      "style cost = 3769056000.0\n",
      "Iteration 20 :\n",
      "total cost = 534893900.0\n",
      "content cost = 15835.141\n",
      "style cost = 3765424600.0\n",
      "Iteration 40 :\n",
      "total cost = 532161920.0\n",
      "content cost = 15592.332\n",
      "style cost = 3762386000.0\n",
      "Iteration 60 :\n",
      "total cost = 529500830.0\n",
      "content cost = 15362.003\n",
      "style cost = 3758807800.0\n",
      "Iteration 80 :\n",
      "total cost = 526511070.0\n",
      "content cost = 15110.874\n",
      "style cost = 3754023200.0\n",
      "Iteration 100 :\n",
      "total cost = 523144400.0\n",
      "content cost = 14839.066\n",
      "style cost = 3747537200.0\n",
      "Iteration 120 :\n",
      "total cost = 519438370.0\n",
      "content cost = 14553.008\n",
      "style cost = 3739082800.0\n",
      "Iteration 140 :\n",
      "total cost = 515450600.0\n",
      "content cost = 14260.327\n",
      "style cost = 3728473300.0\n",
      "Iteration 160 :\n",
      "total cost = 511230200.0\n",
      "content cost = 13966.95\n",
      "style cost = 3715607000.0\n",
      "Iteration 180 :\n",
      "total cost = 506812930.0\n",
      "content cost = 13677.308\n",
      "style cost = 3700398600.0\n",
      "Iteration 200 :\n",
      "total cost = 502221900.0\n",
      "content cost = 13394.456\n",
      "style cost = 3682773500.0\n",
      "Iteration 220 :\n",
      "total cost = 497481380.0\n",
      "content cost = 13120.989\n",
      "style cost = 3662715000.0\n",
      "Iteration 240 :\n",
      "total cost = 492606880.0\n",
      "content cost = 12858.399\n",
      "style cost = 3640228600.0\n",
      "Iteration 260 :\n",
      "total cost = 487609950.0\n",
      "content cost = 12607.904\n",
      "style cost = 3615309000.0\n",
      "Iteration 280 :\n",
      "total cost = 482509340.0\n",
      "content cost = 12371.008\n",
      "style cost = 3587992600.0\n",
      "Iteration 300 :\n",
      "total cost = 477315500.0\n",
      "content cost = 12148.599\n",
      "style cost = 3558295000.0\n",
      "Iteration 320 :\n",
      "total cost = 472042240.0\n",
      "content cost = 11941.216\n",
      "style cost = 3526300700.0\n",
      "Iteration 340 :\n",
      "total cost = 466703260.0\n",
      "content cost = 11749.44\n",
      "style cost = 3492088600.0\n",
      "Iteration 360 :\n",
      "total cost = 461313900.0\n",
      "content cost = 11573.532\n",
      "style cost = 3455785500.0\n",
      "Iteration 380 :\n",
      "total cost = 455884450.0\n",
      "content cost = 11413.584\n",
      "style cost = 3417486000.0\n",
      "Iteration 400 :\n",
      "total cost = 450426240.0\n",
      "content cost = 11269.648\n",
      "style cost = 3377297400.0\n",
      "Iteration 420 :\n",
      "total cost = 444955900.0\n",
      "content cost = 11140.824\n",
      "style cost = 3335476700.0\n",
      "Iteration 440 :\n",
      "total cost = 439485440.0\n",
      "content cost = 11027.022\n",
      "style cost = 3292152000.0\n",
      "Iteration 460 :\n",
      "total cost = 434022940.0\n",
      "content cost = 10927.938\n",
      "style cost = 3247435500.0\n",
      "Iteration 480 :\n",
      "total cost = 428581800.0\n",
      "content cost = 10842.567\n",
      "style cost = 3201561000.0\n",
      "Iteration 500 :\n",
      "total cost = 423173700.0\n",
      "content cost = 10770.312\n",
      "style cost = 3154706000.0\n",
      "Iteration 520 :\n",
      "total cost = 417810080.0\n",
      "content cost = 10709.896\n",
      "style cost = 3107111000.0\n",
      "Iteration 540 :\n",
      "total cost = 412500740.0\n",
      "content cost = 10660.46\n",
      "style cost = 3058961200.0\n",
      "Iteration 560 :\n",
      "total cost = 407256200.0\n",
      "content cost = 10620.413\n",
      "style cost = 3010520600.0\n",
      "Iteration 580 :\n",
      "total cost = 402084260.0\n",
      "content cost = 10588.54\n",
      "style cost = 2961988400.0\n",
      "Iteration 600 :\n",
      "total cost = 396993540.0\n",
      "content cost = 10563.949\n",
      "style cost = 2913540400.0\n",
      "Iteration 620 :\n",
      "total cost = 391994880.0\n",
      "content cost = 10545.985\n",
      "style cost = 2865350000.0\n",
      "Iteration 640 :\n",
      "total cost = 387092100.0\n",
      "content cost = 10533.313\n",
      "style cost = 2817589200.0\n",
      "Iteration 660 :\n",
      "total cost = 382286660.0\n",
      "content cost = 10525.351\n",
      "style cost = 2770331400.0\n",
      "Iteration 680 :\n",
      "total cost = 377581570.0\n",
      "content cost = 10521.424\n",
      "style cost = 2723673300.0\n",
      "Iteration 700 :\n",
      "total cost = 372982560.0\n",
      "content cost = 10520.945\n",
      "style cost = 2677731000.0\n",
      "Iteration 720 :\n",
      "total cost = 368495550.0\n",
      "content cost = 10523.246\n",
      "style cost = 2632631000.0\n",
      "Iteration 740 :\n",
      "total cost = 364119200.0\n",
      "content cost = 10527.752\n",
      "style cost = 2588416800.0\n",
      "Iteration 760 :\n",
      "total cost = 359851040.0\n",
      "content cost = 10533.798\n",
      "style cost = 2545130500.0\n",
      "Iteration 780 :\n",
      "total cost = 355688740.0\n",
      "content cost = 10541.303\n",
      "style cost = 2502757000.0\n",
      "Iteration 800 :\n",
      "total cost = 351633760.0\n",
      "content cost = 10549.147\n",
      "style cost = 2461422800.0\n",
      "Iteration 820 :\n",
      "total cost = 347685200.0\n",
      "content cost = 10557.726\n",
      "style cost = 2421079300.0\n",
      "Iteration 840 :\n",
      "total cost = 343837570.0\n",
      "content cost = 10566.771\n",
      "style cost = 2381698600.0\n",
      "Iteration 860 :\n",
      "total cost = 340086050.0\n",
      "content cost = 10576.066\n",
      "style cost = 2343253800.0\n",
      "Iteration 880 :\n",
      "total cost = 336431870.0\n",
      "content cost = 10585.8955\n",
      "style cost = 2305729300.0\n",
      "Iteration 900 :\n",
      "total cost = 332869540.0\n",
      "content cost = 10595.422\n",
      "style cost = 2269153000.0\n",
      "Iteration 920 :\n",
      "total cost = 329395230.0\n",
      "content cost = 10604.261\n",
      "style cost = 2233526300.0\n",
      "Iteration 940 :\n",
      "total cost = 326007040.0\n",
      "content cost = 10613.401\n",
      "style cost = 2198730000.0\n",
      "Iteration 960 :\n",
      "total cost = 322700350.0\n",
      "content cost = 10622.534\n",
      "style cost = 2164749800.0\n",
      "Iteration 980 :\n",
      "total cost = 319470340.0\n",
      "content cost = 10631.656\n",
      "style cost = 2131537900.0\n"
     ]
    }
   ],
   "source": [
    "content_image_path = \"content.jpeg\"\n",
    "style_image_path = \"sandstone.jpg\"\n",
    "model_path = \"\"\n",
    "output_image_path = \"test2/\"\n",
    "\n",
    "num_iterations = 1000\n",
    "alpha = 1e4                  #hyper-paramter giving weight to content_imgae cost\n",
    "beta = 1e-1                   #hyperparameter giving weight to style_image cost\n",
    "learning_rate = 0.02          #learning rate for gradient descent\n",
    "\n",
    "#further parameters to be modified can be found in Neural_Style.py\n",
    "Neural_Style_Image(content_image_path, style_image_path, output_image_path, model_path, num_iterations, alpha, beta, learning_rate)"
   ]
  },
  {
   "cell_type": "markdown",
   "metadata": {
    "colab_type": "text",
    "id": "7BdXblitHwyl"
   },
   "source": [
    "## Credits\n",
    "This base of this code was taken from the deeplearning.ai course Convolutional Neural Networks and is further modified and generalized to everyone's need\n",
    "\n",
    "Credits: Muhammad Hamza\n",
    "Github: muhammadhamzach"
   ]
  }
 ],
 "metadata": {
  "accelerator": "GPU",
  "colab": {
   "authorship_tag": "ABX9TyNJZr35ipiUmO3YoiS+6YjK",
   "collapsed_sections": [],
   "include_colab_link": true,
   "name": "ArtGenerationwithNeuralStyleTransfer_Collab.ipynb",
   "provenance": []
  },
  "kernelspec": {
   "display_name": "Python 3",
   "language": "python",
   "name": "python3"
  },
  "language_info": {
   "codemirror_mode": {
    "name": "ipython",
    "version": 3
   },
   "file_extension": ".py",
   "mimetype": "text/x-python",
   "name": "python",
   "nbconvert_exporter": "python",
   "pygments_lexer": "ipython3",
   "version": "3.7.6"
  }
 },
 "nbformat": 4,
 "nbformat_minor": 1
}
