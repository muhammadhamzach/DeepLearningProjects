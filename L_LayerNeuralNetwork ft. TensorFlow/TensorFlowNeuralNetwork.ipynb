{
 "cells": [
  {
   "cell_type": "markdown",
   "metadata": {
    "colab_type": "text",
    "id": "Bea1GYfIMK0K"
   },
   "source": [
    "# Neural Networks Using Tensorflow (Basics)\n",
    "This notebook is based on the deeplearning.ai Hyper-parameter course's Week 3 Lab.\n",
    "* Made by: Muhammad Hamza\n",
    "* Github: muhammadhamzach"
   ]
  },
  {
   "cell_type": "markdown",
   "metadata": {
    "colab_type": "text",
    "id": "PBySTiujMawM"
   },
   "source": [
    "Importing the necessary libraries including Tensorflow v2"
   ]
  },
  {
   "cell_type": "code",
   "execution_count": 1,
   "metadata": {
    "colab": {},
    "colab_type": "code",
    "id": "8oh46VrjrZ6P"
   },
   "outputs": [],
   "source": [
    "import tensorflow as tf\n",
    "import numpy as np\n",
    "import h5py\n",
    "import math\n",
    "from tensorflow.python.framework import ops\n",
    "import matplotlib.pyplot as plt\n",
    "tf.compat.v1.disable_eager_execution()"
   ]
  },
  {
   "cell_type": "markdown",
   "metadata": {
    "colab_type": "text",
    "id": "2SN6dNOEO6lU"
   },
   "source": [
    "### Loading Dataset\n",
    "We load the dataset from the same directory. The two files loaded are for both training and test sets.\n",
    "As usual you flatten the image dataset, then normalize it by dividing by 255. On top of that, you will convert each label to a one-hot vector as shown in Figure 1. Run the cell below to do so."
   ]
  },
  {
   "cell_type": "code",
   "execution_count": 2,
   "metadata": {
    "colab": {},
    "colab_type": "code",
    "id": "A2z7Ljl9sIh2"
   },
   "outputs": [],
   "source": [
    "def load_dataset():\n",
    "    train_dataset = h5py.File('datasets/train_signs.h5', \"r\")\n",
    "    train_set_x_orig = np.array(train_dataset[\"train_set_x\"][:]) # your train set features\n",
    "    train_set_y_orig = np.array(train_dataset[\"train_set_y\"][:]) # your train set labels\n",
    "\n",
    "    test_dataset = h5py.File('datasets/test_signs.h5', \"r\")\n",
    "    test_set_x_orig = np.array(test_dataset[\"test_set_x\"][:]) # your test set features\n",
    "    test_set_y_orig = np.array(test_dataset[\"test_set_y\"][:]) # your test set labels\n",
    "\n",
    "    classes = np.array(test_dataset[\"list_classes\"][:]) # the list of classes\n",
    "    \n",
    "    train_set_y_orig = train_set_y_orig.reshape((1, train_set_y_orig.shape[0]))\n",
    "    test_set_y_orig = test_set_y_orig.reshape((1, test_set_y_orig.shape[0]))\n",
    "    \n",
    "    # Flatten the training and test images\n",
    "    X_train_flatten = train_set_x_orig.reshape(train_set_x_orig.shape[0], -1).T\n",
    "    X_test_flatten = test_set_x_orig.reshape(test_set_x_orig.shape[0], -1).T\n",
    "    \n",
    "    # Normalize image vectors\n",
    "    X_train = X_train_flatten/255.\n",
    "    X_test = X_test_flatten/255.\n",
    "    # Convert training and test labels to one hot matrices\n",
    "    Y_train = convert_to_one_hot(train_set_y_orig, classes.shape[0])\n",
    "    Y_test = convert_to_one_hot(test_set_y_orig, classes.shape[0])\n",
    "    \n",
    "    return X_train, Y_train,X_test, Y_test, classes"
   ]
  },
  {
   "cell_type": "markdown",
   "metadata": {
    "colab_type": "text",
    "id": "Q--5CjAMNDFX"
   },
   "source": [
    "### Using One Hot encodings\n",
    "This is a \"one hot\" encoding i.e. in the converted representation exactly one element of each column is \"hot\" (meaning set to 1)."
   ]
  },
  {
   "cell_type": "code",
   "execution_count": 3,
   "metadata": {
    "colab": {},
    "colab_type": "code",
    "id": "bKhP_9Dgr5Qa"
   },
   "outputs": [],
   "source": [
    "def convert_to_one_hot(Y, C):\n",
    "    \n",
    "    Y = np.eye(C)[Y.reshape(-1)].T\n",
    "    return Y"
   ]
  },
  {
   "cell_type": "markdown",
   "metadata": {
    "colab_type": "text",
    "id": "ZGs1FapIOOcw"
   },
   "source": [
    "### Create placeholders\n",
    "\n",
    "Now to create placeholders for `X` and `Y`. This will allow you to later pass your training data in when you run your session."
   ]
  },
  {
   "cell_type": "code",
   "execution_count": 4,
   "metadata": {
    "colab": {},
    "colab_type": "code",
    "id": "0FE4tkXVr-MF"
   },
   "outputs": [],
   "source": [
    "def create_placeholders(n_x, n_y):\n",
    "    ##Creates the placeholders for the tensorflow session.\n",
    "\n",
    "    X = tf.compat.v1.placeholder(tf.float32, [n_x, None], name=\"X\")\n",
    "    Y = tf.compat.v1.placeholder(tf.float32, [n_y, None], name=\"Y\")\n",
    "    \n",
    "    return X, Y"
   ]
  },
  {
   "cell_type": "markdown",
   "metadata": {
    "colab_type": "text",
    "id": "Q6q6ePXkP9eb"
   },
   "source": [
    "### Mini-Batch Gradient descent\n",
    "\n",
    "Let's learn how to build mini-batches from the training set (X, Y).\n",
    "\n",
    "There are two steps:\n",
    "- **Shuffle**: Create a shuffled version of the training set (X, Y) as shown below. Each column of X and Y represents a training example. Note that the random shuffling is done synchronously between X and Y. Such that after the shuffling the $i^{th}$ column of X is the example corresponding to the $i^{th}$ label in Y. The shuffling step ensures that examples will be split randomly into different mini-batches. \n",
    "\n",
    "- **Partition**: Partition the shuffled (X, Y) into mini-batches of size `mini_batch_size`. Note that the number of training examples is not always divisible by `mini_batch_size`. The last mini batch might be smaller, but you don't need to worry about this. "
   ]
  },
  {
   "cell_type": "code",
   "execution_count": 5,
   "metadata": {
    "colab": {},
    "colab_type": "code",
    "id": "7etQcQ0VsNTn"
   },
   "outputs": [],
   "source": [
    "def random_mini_batches(X, Y, mini_batch_size = 64, seed = 0):    \n",
    "    #Creates a list of random minibatches from (X, Y)\n",
    "\n",
    "    m = X.shape[1]\n",
    "    mini_batches = []\n",
    "    np.random.seed(seed)\n",
    "    \n",
    "    # Step 1: Shuffle (X, Y)\n",
    "    permutation = list(np.random.permutation(m))\n",
    "    shuffled_X = X[:, permutation]\n",
    "    shuffled_Y = Y[:, permutation].reshape((Y.shape[0],m))\n",
    "\n",
    "    # Step 2: Partition (shuffled_X, shuffled_Y). Minus the end case.\n",
    "    num_complete_minibatches = math.floor(m/mini_batch_size) # number of mini batches of size mini_batch_size in your partitionning\n",
    "    for k in range(0, num_complete_minibatches):\n",
    "        mini_batch_X = shuffled_X[:, k * mini_batch_size : k * mini_batch_size + mini_batch_size]\n",
    "        mini_batch_Y = shuffled_Y[:, k * mini_batch_size : k * mini_batch_size + mini_batch_size]\n",
    "        mini_batch = (mini_batch_X, mini_batch_Y)\n",
    "        mini_batches.append(mini_batch)\n",
    "    \n",
    "    # Handling the end case (last mini-batch < mini_batch_size)\n",
    "    if m % mini_batch_size != 0:\n",
    "        mini_batch_X = shuffled_X[:, num_complete_minibatches * mini_batch_size : m]\n",
    "        mini_batch_Y = shuffled_Y[:, num_complete_minibatches * mini_batch_size : m]\n",
    "        mini_batch = (mini_batch_X, mini_batch_Y)\n",
    "        mini_batches.append(mini_batch)\n",
    "    \n",
    "    return mini_batches"
   ]
  },
  {
   "cell_type": "markdown",
   "metadata": {
    "colab_type": "text",
    "id": "4B8b2MHeOZgT"
   },
   "source": [
    "### Initializing the parameters\n",
    "\n",
    "Next task is to initialize the parameters in tensorflow. Implement the function below to initialize the parameters in tensorflow. You are going use Xavier Initialization for weights and Zero Initialization for biases.\n"
   ]
  },
  {
   "cell_type": "code",
   "execution_count": 6,
   "metadata": {
    "colab": {},
    "colab_type": "code",
    "id": "xZs9yhlvsFgs"
   },
   "outputs": [],
   "source": [
    "def initialize_parameters(layer_dims):\n",
    "    ## Initializes parameters to build a neural network with tensorflow. The shapes are:\n",
    "\n",
    "    tf.compat.v1.random.set_random_seed(1)\n",
    "    parameters = {}\n",
    "    L = len(layer_dims)            # number of layers in the network\n",
    "\n",
    "    for l in range(1, L):\n",
    "        \n",
    "        parameters['W' + str(l)] = tf.compat.v1.get_variable('W' + str(l), [layer_dims[l],layer_dims[l-1]], initializer = tf.keras.initializers.GlorotUniform(seed = 1))\n",
    "        parameters['b' + str(l)] = tf.compat.v1.get_variable('b' + str(l), [layer_dims[l], 1], initializer = tf.zeros_initializer())\n",
    "        np.zeros((layer_dims[l], 1))\n",
    "    \n",
    "    return parameters"
   ]
  },
  {
   "cell_type": "markdown",
   "metadata": {
    "colab_type": "text",
    "id": "fLknIgBGNaVe"
   },
   "source": [
    "### Computing the Cost\n",
    "\n",
    "You can also use a built-in function to compute the cost of your neural network. So instead of needing to write code to compute this as a function of $a^{[2](i)}$ and $y^{(i)}$ for i=1...m: \n",
    "$$ J = - \\frac{1}{m}  \\sum_{i = 1}^m  \\large ( \\small y^{(i)} \\log a^{ [2] (i)} + (1-y^{(i)})\\log (1-a^{ [2] (i)} )\\large )\\small\\$$\n",
    "\n",
    "you can do it in one line of code in tensorflow!"
   ]
  },
  {
   "cell_type": "code",
   "execution_count": 7,
   "metadata": {
    "colab": {},
    "colab_type": "code",
    "id": "-deu9eLQr7nu"
   },
   "outputs": [],
   "source": [
    "def compute_cost(Z, Y):\n",
    "    # Computes the cost\n",
    "\n",
    "    logits = tf.transpose(Z)\n",
    "    labels = tf.transpose(Y)\n",
    "    \n",
    "    cost = tf.reduce_mean(tf.nn.softmax_cross_entropy_with_logits(logits = logits, labels = labels))\n",
    "    \n",
    "    return cost"
   ]
  },
  {
   "cell_type": "markdown",
   "metadata": {
    "colab_type": "text",
    "id": "jRXRs7rvPOyJ"
   },
   "source": [
    "### Forward propagation in tensorflow \n",
    "\n",
    "You will now implement the forward propagation module in tensorflow. The function will take in a dictionary of parameters and it will complete the forward pass. It is important to note that the forward propagation stops at `Z`. The reason is that in tensorflow the last linear layer output is given as input to the function computing the loss. Therefore, you don't need `AL`!"
   ]
  },
  {
   "cell_type": "code",
   "execution_count": 8,
   "metadata": {
    "colab": {},
    "colab_type": "code",
    "id": "8WgpsurEsAed"
   },
   "outputs": [],
   "source": [
    "def forward_propagation(X, parameters):\n",
    "    ##Implements the forward propagation for the model: LINEAR -> RELU -> LINEAR -> RELU -> LINEAR -> SOFTMAX\n",
    "\n",
    "    A = X\n",
    "    L = len(parameters) // 2  \n",
    "    \n",
    "    tf.compat.v1.random.set_random_seed(1)\n",
    "      \n",
    "    for l in range(1, L+1):     \n",
    "        Z = tf.add(tf.matmul(parameters['W'+str(l)],A),parameters['b'+str(l)])\n",
    "        if l != L:\n",
    "            A = tf.nn.relu(Z)\n",
    " \n",
    "    return Z"
   ]
  },
  {
   "cell_type": "markdown",
   "metadata": {
    "colab_type": "text",
    "id": "AEUtXFmOPzwS"
   },
   "source": [
    "### Predictions\n",
    "\n",
    "Use your model to predict by building predict().\n",
    "Use forward propagation to predict results."
   ]
  },
  {
   "cell_type": "code",
   "execution_count": 9,
   "metadata": {
    "colab": {},
    "colab_type": "code",
    "id": "k7elrYMqsLEW"
   },
   "outputs": [],
   "source": [
    "def predict(X, parameters):\n",
    "    \n",
    "    params = {}\n",
    "    L = len(parameters) // 2 \n",
    "    \n",
    "    for l in range(1, L):    \n",
    "        params['W' + str(l)] = tf.convert_to_tensor(parameters['W' + str(l)])\n",
    "        params['b' + str(l)] = tf.convert_to_tensor(parameters['b' + str(l)])\n",
    "    \n",
    "    x = tf.placeholder(\"float\", [X.shape[0], 1])\n",
    "    \n",
    "    Z = forward_propagation(x, params)\n",
    "    p = tf.argmax(Z)\n",
    "    \n",
    "    sess = tf.Session()\n",
    "    prediction = sess.run(p, feed_dict = {x: X})\n",
    "    \n",
    "    return predictions"
   ]
  },
  {
   "cell_type": "markdown",
   "metadata": {
    "colab_type": "text",
    "id": "JxGbbN1_QvA3"
   },
   "source": [
    "### Building the model\n",
    "\n",
    "Now, we will bring it all together! "
   ]
  },
  {
   "cell_type": "code",
   "execution_count": 10,
   "metadata": {
    "colab": {},
    "colab_type": "code",
    "id": "aWAI3331vyDp"
   },
   "outputs": [],
   "source": [
    "def tensor_model(X_train, Y_train, X_test, Y_test, layer_dims, optimizer=\"gd\", beta1= 0.9, beta2=0.999, epsilon=1e-8, learning_rate = 0.0001,num_epochs = 1500, minibatch_size = 32, print_cost = True):\n",
    "    ##Implements a three-layer tensorflow neural network: LINEAR->RELU->LINEAR->RELU->LINEAR->SOFTMAX.\n",
    "    \n",
    "    \n",
    "    ops.reset_default_graph()                         # to be able to rerun the model without overwriting tf variables\n",
    "    tf.compat.v1.random.set_random_seed(1)\n",
    "    seed = 3                                         \n",
    "    (n_x, m) = X_train.shape                          \n",
    "    n_y = Y_train.shape[0]\n",
    "    costs = []\n",
    "    \n",
    "    # Create Placeholders of shape (n_x, n_y)\n",
    "    X, Y = create_placeholders(n_x, n_y)\n",
    "\n",
    "    # Initialize parameters\n",
    "    parameters = initialize_parameters(layer_dims)\n",
    "    \n",
    "    # Forward propagation: Build the forward propagation in the tensorflow graph\n",
    "    Z = forward_propagation(X, parameters)\n",
    "    \n",
    "    # Cost function: Add cost function to tensorflow graph\n",
    "    cost = compute_cost(Z, Y)\n",
    "    \n",
    "    # Backpropagation: Define the tensorflow optimizer. Use an AdamOptimizer.\n",
    "    if optimizer == \"gd\":\n",
    "        optimizer = tf.compat.v1.train.GradientDescentOptimizer(learning_rate = learning_rate).minimize(cost)\n",
    "    elif optimizer == \"adam\":\n",
    "        optimizer = tf.compat.v1.train.AdamOptimizer(learning_rate = learning_rate, beta1=beta1, beta2=beta2, epsilon = epsilon).minimize(cost)\n",
    "    \n",
    "    # Initialize all the variables\n",
    "    init = tf.compat.v1.global_variables_initializer()\n",
    "\n",
    "    # Start the session to compute the tensorflow graph\n",
    "    with tf.compat.v1.Session() as sess:\n",
    "        \n",
    "        # Run the initialization\n",
    "        sess.run(init)\n",
    "        \n",
    "        # Do the training loop\n",
    "        for epoch in range(num_epochs):\n",
    "\n",
    "            epoch_cost = 0\n",
    "            #num_minibatches = int(m / minibatch_size) # number of minibatches of size minibatch_size in the train set\n",
    "            seed = seed + 1\n",
    "            minibatches = random_mini_batches(X_train, Y_train, minibatch_size, seed)\n",
    "\n",
    "            for minibatch in minibatches:\n",
    "\n",
    "                (minibatch_X, minibatch_Y) = minibatch\n",
    "                \n",
    "                #The line that runs the graph on a minibatch.\n",
    "                _ , minibatch_cost = sess.run([optimizer, cost], feed_dict={X: minibatch_X, Y: minibatch_Y})\n",
    "                \n",
    "                epoch_cost += minibatch_cost / minibatch_size\n",
    "\n",
    "            # Print the cost every epoch\n",
    "            if print_cost == True and epoch % 100 == 0:\n",
    "                print (\"Cost after epoch %i: %f\" % (epoch, epoch_cost))\n",
    "            if print_cost == True and epoch % 5 == 0:\n",
    "                costs.append(epoch_cost)\n",
    "                \n",
    "        # plot the cost\n",
    "        plt.figure(1)\n",
    "        plt.plot(np.squeeze(costs))\n",
    "        plt.ylabel('cost')\n",
    "        plt.xlabel('iterations (per fives)')\n",
    "        plt.title(\"Learning rate =\" + str(learning_rate))\n",
    "        plt.show()\n",
    "\n",
    "        parameters = sess.run(parameters)\n",
    "\n",
    "        # Calculate the correct predictions\n",
    "        correct_prediction = tf.equal(tf.argmax(Z), tf.argmax(Y))\n",
    "\n",
    "        # Calculate accuracy on the test set\n",
    "        accuracy = tf.reduce_mean(tf.cast(correct_prediction, \"float\"))\n",
    "\n",
    "        print (\"Train Accuracy:\", accuracy.eval({X: X_train, Y: Y_train}))\n",
    "        print (\"Test Accuracy:\", accuracy.eval({X: X_test, Y: Y_test}))\n",
    "        \n",
    "        return parameters"
   ]
  },
  {
   "cell_type": "markdown",
   "metadata": {
    "colab_type": "text",
    "id": "C5Vi6XH2Qz1g"
   },
   "source": [
    "### Main Function\n",
    "Here we will call our Neural Network made using Tensor Flow and see the results."
   ]
  },
  {
   "cell_type": "code",
   "execution_count": 11,
   "metadata": {
    "colab": {
     "base_uri": "https://localhost:8080/",
     "height": 655
    },
    "colab_type": "code",
    "id": "LQP8sBPNv3KP",
    "outputId": "b7ce8443-50ba-460f-b468-db16d3269610"
   },
   "outputs": [
    {
     "name": "stdout",
     "output_type": "stream",
     "text": [
      "WARNING:tensorflow:From C:\\Users\\Muhammad Hamza\\AppData\\Roaming\\Python\\Python37\\site-packages\\tensorflow_core\\python\\ops\\resource_variable_ops.py:1635: calling BaseResourceVariable.__init__ (from tensorflow.python.ops.resource_variable_ops) with constraint is deprecated and will be removed in a future version.\n",
      "Instructions for updating:\n",
      "If using Keras pass *_constraint arguments to layers.\n",
      "Cost after epoch 0: 1.924667\n",
      "Cost after epoch 100: 0.766357\n",
      "Cost after epoch 200: 0.527253\n",
      "Cost after epoch 300: 0.365863\n",
      "Cost after epoch 400: 0.236924\n",
      "Cost after epoch 500: 0.146674\n",
      "Cost after epoch 600: 0.094273\n",
      "Cost after epoch 700: 0.067775\n",
      "Cost after epoch 800: 0.033554\n",
      "Cost after epoch 900: 0.019139\n",
      "Cost after epoch 1000: 0.011892\n",
      "Cost after epoch 1100: 0.006809\n",
      "Cost after epoch 1200: 0.006445\n",
      "Cost after epoch 1300: 0.003129\n",
      "Cost after epoch 1400: 0.002760\n"
     ]
    },
    {
     "data": {
      "image/png": "[encoded data removed]",
      "text/plain": [
       "<Figure size 432x288 with 1 Axes>"
      ]
     },
     "metadata": {
      "needs_background": "light"
     },
     "output_type": "display_data"
    },
    {
     "name": "stdout",
     "output_type": "stream",
     "text": [
      "Train Accuracy: 1.0\n",
      "Test Accuracy: 0.85833335\n"
     ]
    }
   ],
   "source": [
    "X_train, Y_train, X_test, Y_test, classes = load_dataset()\n",
    "m = X_train.shape[1]\n",
    "\n",
    "layer_dims = [X_train.shape[0], 25, 12, classes.shape[0]]  #dimesions of the neural network layer\n",
    "learning_rate = 0.0001                      #alpha learning rate of the system\n",
    "num_epochs = 1500                           #number of iterations \n",
    "minibatch_size = 32                         #use m for Batch Gradient Descent instead of Mini Batch Gradient Descent\n",
    "\n",
    "optimizer = \"adam\"                            #gradient descent type (\"gd\" or \"adam\" available)\n",
    "beta1 = 0.9                                 #momentum parameter for Adam Optimizer\n",
    "beta2 = 0.999                               #momentum parameter for Adam Optimizer\n",
    "epsilon=10e-8                               #for Adam Optimizer\n",
    "\n",
    "\n",
    "parameters = tensor_model(X_train, Y_train, X_test, Y_test, layer_dims, optimizer, beta1,beta2,epsilon, learning_rate, num_epochs, minibatch_size)"
   ]
  }
 ],
 "metadata": {
  "accelerator": "GPU",
  "colab": {
   "collapsed_sections": [],
   "name": "TensorFlowNeuralNetwork.ipynb",
   "provenance": []
  },
  "kernelspec": {
   "display_name": "Python 3",
   "language": "python",
   "name": "python3"
  },
  "language_info": {
   "codemirror_mode": {
    "name": "ipython",
    "version": 3
   },
   "file_extension": ".py",
   "mimetype": "text/x-python",
   "name": "python",
   "nbconvert_exporter": "python",
   "pygments_lexer": "ipython3",
   "version": "3.7.6"
  }
 },
 "nbformat": 4,
 "nbformat_minor": 1
}
